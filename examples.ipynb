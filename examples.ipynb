{
 "cells": [
  {
   "cell_type": "code",
   "execution_count": 1,
   "metadata": {},
   "outputs": [],
   "source": [
    "from dicegames import *"
   ]
  },
  {
   "cell_type": "markdown",
   "metadata": {},
   "source": [
    "`roll(dice, seed)`"
   ]
  },
  {
   "cell_type": "code",
   "execution_count": 2,
   "metadata": {},
   "outputs": [
    {
     "data": {
      "text/plain": [
       "[2]"
      ]
     },
     "execution_count": 2,
     "metadata": {},
     "output_type": "execute_result"
    }
   ],
   "source": [
    "roll()"
   ]
  },
  {
   "cell_type": "code",
   "execution_count": 3,
   "metadata": {},
   "outputs": [
    {
     "data": {
      "text/plain": [
       "[5, 6, 4, 5, 5, 2]"
      ]
     },
     "execution_count": 3,
     "metadata": {},
     "output_type": "execute_result"
    }
   ],
   "source": [
    "roll(6)"
   ]
  },
  {
   "cell_type": "code",
   "execution_count": 4,
   "metadata": {},
   "outputs": [
    {
     "data": {
      "text/plain": [
       "[2, 4, 3]"
      ]
     },
     "execution_count": 4,
     "metadata": {},
     "output_type": "execute_result"
    }
   ],
   "source": [
    "roll(dice=3, seed=3)"
   ]
  },
  {
   "cell_type": "code",
   "execution_count": 5,
   "metadata": {},
   "outputs": [
    {
     "data": {
      "text/plain": [
       "[2, 4, 3, 4, 4, 1]"
      ]
     },
     "execution_count": 5,
     "metadata": {},
     "output_type": "execute_result"
    }
   ],
   "source": [
    "roll(dice=6, seed=3)"
   ]
  },
  {
   "cell_type": "code",
   "execution_count": 6,
   "metadata": {},
   "outputs": [
    {
     "name": "stdout",
     "output_type": "stream",
     "text": [
      "0.167365 0.166592 0.167151 0.166801 0.166224 0.165867\n"
     ]
    }
   ],
   "source": [
    "# Confirm roll() simulates a fair 6-sided dice\n",
    "ones, twos, threes, fours, fives, sixes = 0, 0, 0, 0, 0, 0\n",
    "for i in range(1000000):\n",
    "    result = roll()\n",
    "    if result[0] == 1:\n",
    "        ones += 1\n",
    "    elif result[0] == 2:\n",
    "        twos += 1\n",
    "    elif result[0] == 3:\n",
    "        threes += 1\n",
    "    elif result[0] == 4:\n",
    "        fours += 1\n",
    "    elif result[0] == 5:\n",
    "        fives += 1\n",
    "    elif result[0] == 6:\n",
    "        sixes += 1\n",
    "    else:\n",
    "        print(\"Erroneous result returned: \", result)\n",
    "        break\n",
    "        \n",
    "print(ones/1000000, twos/1000000, threes/1000000, fours/1000000, fives/1000000, sixes/1000000)"
   ]
  },
  {
   "cell_type": "markdown",
   "metadata": {},
   "source": [
    "`dec_to_pct(dec, digits)`"
   ]
  },
  {
   "cell_type": "code",
   "execution_count": 7,
   "metadata": {},
   "outputs": [
    {
     "data": {
      "text/plain": [
       "'82.41%'"
      ]
     },
     "execution_count": 7,
     "metadata": {},
     "output_type": "execute_result"
    }
   ],
   "source": [
    "dec_to_pct(0.824052237)"
   ]
  },
  {
   "cell_type": "code",
   "execution_count": 8,
   "metadata": {},
   "outputs": [
    {
     "data": {
      "text/plain": [
       "'82.40522%'"
      ]
     },
     "execution_count": 8,
     "metadata": {},
     "output_type": "execute_result"
    }
   ],
   "source": [
    "dec_to_pct(0.824052237, 5)"
   ]
  },
  {
   "cell_type": "markdown",
   "metadata": {},
   "source": [
    "`farkel_prob(dice)`"
   ]
  },
  {
   "cell_type": "code",
   "execution_count": 9,
   "metadata": {},
   "outputs": [
    {
     "data": {
      "text/plain": [
       "{'Farkel': '2.32%',\n",
       " 'Two triplets': '0.64%',\n",
       " 'Three pairs': '3.83%',\n",
       " 'Straight': '1.56%',\n",
       " '6 of a kind': '0.01%',\n",
       " '5 of a kind': '0.39%',\n",
       " '4 of a kind': '4.83%',\n",
       " 'Any 3 of a kind': '30.87%',\n",
       " 'Specific 3 of a kind': '5.12%',\n",
       " 'At Least One 1': '66.57%',\n",
       " 'At Least One 5': '66.46%',\n",
       " 'Scoring Something': '97.68%'}"
      ]
     },
     "execution_count": 9,
     "metadata": {},
     "output_type": "execute_result"
    }
   ],
   "source": [
    "# Check probability tables via simulation\n",
    "\n",
    "rolls = 1000000\n",
    "dice = 6\n",
    "\n",
    "# initiate counters\n",
    "farkels = 0\n",
    "two_triplets = 0\n",
    "three_pairs = 0\n",
    "straight = 0\n",
    "six_ofa_kind = 0\n",
    "five_ofa_kind = 0\n",
    "four_ofa_kind = 0\n",
    "three_ofa_kind = 0\n",
    "three_threes = 0\n",
    "one = 0\n",
    "five = 0\n",
    "\n",
    "for i in range(rolls):\n",
    "    \n",
    "    # roll\n",
    "    result = roll(dice)\n",
    "    \n",
    "    farkel = True\n",
    "    \n",
    "    # count occurrences of each number\n",
    "    ones = result.count(1)\n",
    "    twos = result.count(2)\n",
    "    threes = result.count(3)\n",
    "    fours = result.count(4)\n",
    "    fives = result.count(5)\n",
    "    sixes = result.count(6)\n",
    "    \n",
    "    counts = [ones,twos,threes,fours,fives,sixes]\n",
    "    \n",
    "    # record scoring events\n",
    "    if counts.count(3) == 2:\n",
    "        two_triplets += 1\n",
    "        farkel = False\n",
    "    elif counts.count(2) == 3:\n",
    "        three_pairs += 1\n",
    "        farkel = False\n",
    "    elif counts.count(1) == 6:\n",
    "        straight += 1\n",
    "        farkel = False\n",
    "    elif counts.count(6) == 1:\n",
    "        six_ofa_kind += 1\n",
    "        farkel = False\n",
    "    elif counts.count(5) == 1:\n",
    "        five_ofa_kind += 1\n",
    "        farkel = False\n",
    "    elif counts.count(4) == 1:\n",
    "        four_ofa_kind += 1\n",
    "        farkel = False\n",
    "    elif counts.count(3) == 1:\n",
    "        three_ofa_kind += 1\n",
    "        farkel = False\n",
    "        if threes == 3:\n",
    "            three_threes += 1\n",
    "    if ones > 0:\n",
    "        one += 1\n",
    "        farkel = False\n",
    "    if fives > 0:\n",
    "        five += 1\n",
    "        farkel = False\n",
    "        \n",
    "    if farkel:\n",
    "        farkels += 1\n",
    "\n",
    "# collect results\n",
    "d = {'Farkel': dec_to_pct(farkels/rolls),\n",
    "     'Two triplets': dec_to_pct(two_triplets/rolls),\n",
    "     'Three pairs': dec_to_pct(three_pairs/rolls),\n",
    "     'Straight': dec_to_pct(straight/rolls),\n",
    "     '6 of a kind': dec_to_pct(six_ofa_kind/rolls),\n",
    "     '5 of a kind': dec_to_pct(five_ofa_kind/rolls),\n",
    "     '4 of a kind': dec_to_pct(four_ofa_kind/rolls),\n",
    "     'Any 3 of a kind': dec_to_pct(three_ofa_kind/rolls),\n",
    "     'Specific 3 of a kind': dec_to_pct(three_threes/rolls),\n",
    "     'At Least One 1': dec_to_pct(one/rolls),\n",
    "     'At Least One 5': dec_to_pct(five/rolls),\n",
    "     'Scoring Something': dec_to_pct(1-(farkels/rolls))}\n",
    "d"
   ]
  },
  {
   "cell_type": "code",
   "execution_count": 10,
   "metadata": {},
   "outputs": [
    {
     "data": {
      "text/plain": [
       "{'Farkel': '2.31%',\n",
       " 'Two triplets': '0.64%',\n",
       " 'Three pairs': '3.86%',\n",
       " 'Straight': '1.54%',\n",
       " '6 of a kind': '0.01%',\n",
       " '5 of a kind': '0.39%',\n",
       " '4 of a kind': '4.82%',\n",
       " 'Any 3 of a kind': '30.86%',\n",
       " 'Specific 3 of a kind': '5.14%',\n",
       " 'At Least One 1': '66.51%',\n",
       " 'At Least One 5': '66.51%',\n",
       " 'Scoring Something': '97.69%'}"
      ]
     },
     "execution_count": 10,
     "metadata": {},
     "output_type": "execute_result"
    }
   ],
   "source": [
    "farkel_prob(6)"
   ]
  },
  {
   "cell_type": "code",
   "execution_count": 11,
   "metadata": {},
   "outputs": [
    {
     "data": {
      "text/plain": [
       "12"
      ]
     },
     "execution_count": 11,
     "metadata": {},
     "output_type": "execute_result"
    }
   ],
   "source": [
    "len(farkel_prob(6))"
   ]
  },
  {
   "cell_type": "markdown",
   "metadata": {},
   "source": [
    "`farkel_score(roll)`"
   ]
  },
  {
   "cell_type": "code",
   "execution_count": 12,
   "metadata": {},
   "outputs": [
    {
     "name": "stdout",
     "output_type": "stream",
     "text": [
      "[6, 5, 3, 2, 4, 3]\n",
      "{'score': 50, 'score desc': 'Five(s)', 'dice remaining': 5}\n",
      "[1, 6, 5, 2, 3, 3]\n",
      "{'score': 150, 'score desc': 'One(s) And Five(s)', 'dice remaining': 4}\n",
      "[6, 6, 1, 1, 6, 5]\n",
      "{'score': 850, 'score desc': 'Three-of-a-kind; One(s); Five(s)', 'dice remaining': 6}\n",
      "[2, 4, 3, 4, 4, 1]\n",
      "{'score': 500, 'score desc': 'Three-of-a-kind; One(s)', 'dice remaining': 2}\n",
      "[2, 1, 3, 1, 1, 3]\n",
      "{'score': 300, 'score desc': 'Three-of-a-kind', 'dice remaining': 3}\n",
      "[4, 5, 5, 6, 5, 6]\n",
      "{'score': 500, 'score desc': 'Three-of-a-kind', 'dice remaining': 3}\n",
      "[5, 5, 3, 2, 1, 4]\n",
      "{'score': 200, 'score desc': 'One(s) And Five(s)', 'dice remaining': 3}\n",
      "[2, 1, 4, 1, 4, 3]\n",
      "{'score': 200, 'score desc': 'One(s)', 'dice remaining': 4}\n",
      "[2, 6, 1, 5, 1, 2]\n",
      "{'score': 250, 'score desc': 'One(s) And Five(s)', 'dice remaining': 3}\n",
      "[3, 3, 1, 6, 1, 4]\n",
      "{'score': 200, 'score desc': 'One(s)', 'dice remaining': 4}\n"
     ]
    }
   ],
   "source": [
    "for i in range(10):\n",
    "    result = roll(6, i)\n",
    "    print(result)\n",
    "    print(farkel_score(result))"
   ]
  },
  {
   "cell_type": "markdown",
   "metadata": {},
   "source": [
    "`farkel_turn(risk, force_stop)`"
   ]
  },
  {
   "cell_type": "code",
   "execution_count": 13,
   "metadata": {},
   "outputs": [
    {
     "name": "stdout",
     "output_type": "stream",
     "text": [
      "Turn Number  1\n",
      "[5, 2, 5, 1, 2, 1]\n",
      "{'score': 1500, 'score desc': 'Three Pairs', 'dice remaining': 6}\n",
      "Cumulative Score:  1500\n",
      "Turn Number  2\n",
      "[3, 3, 3, 2, 5, 3]\n",
      "{'score': 1050, 'score desc': 'Four-of-a-kind; Five(s)', 'dice remaining': 1}\n",
      "Cumulative Score:  2550\n"
     ]
    },
    {
     "data": {
      "text/plain": [
       "2550"
      ]
     },
     "execution_count": 13,
     "metadata": {},
     "output_type": "execute_result"
    }
   ],
   "source": [
    "farkel_turn()"
   ]
  },
  {
   "cell_type": "code",
   "execution_count": 14,
   "metadata": {},
   "outputs": [
    {
     "name": "stdout",
     "output_type": "stream",
     "text": [
      "Turn Number  1\n",
      "[3, 6, 4, 6, 1, 5]\n",
      "{'score': 150, 'score desc': 'One(s) And Five(s)', 'dice remaining': 4}\n",
      "Cumulative Score:  150\n",
      "Turn Number  2\n",
      "[5, 2, 6, 2]\n",
      "{'score': 50, 'score desc': 'Five(s)', 'dice remaining': 3}\n",
      "Cumulative Score:  200\n"
     ]
    },
    {
     "data": {
      "text/plain": [
       "200"
      ]
     },
     "execution_count": 14,
     "metadata": {},
     "output_type": "execute_result"
    }
   ],
   "source": [
    "farkel_turn(risk=0.2)"
   ]
  },
  {
   "cell_type": "code",
   "execution_count": 15,
   "metadata": {},
   "outputs": [
    {
     "name": "stdout",
     "output_type": "stream",
     "text": [
      "Turn Number  1\n",
      "[6, 4, 2, 6, 6, 6]\n",
      "{'score': 1000, 'score desc': 'Four-of-a-kind', 'dice remaining': 2}\n",
      "Cumulative Score:  1000\n",
      "Turn Number  2\n",
      "[3, 6]\n",
      "{'score': 0, 'score desc': 'Farkel', 'dice remaining': 0}\n",
      "FARKEL!\n"
     ]
    },
    {
     "data": {
      "text/plain": [
       "0"
      ]
     },
     "execution_count": 15,
     "metadata": {},
     "output_type": "execute_result"
    }
   ],
   "source": [
    "farkel_turn(risk=0.7)"
   ]
  },
  {
   "cell_type": "code",
   "execution_count": 16,
   "metadata": {},
   "outputs": [
    {
     "name": "stdout",
     "output_type": "stream",
     "text": [
      "Turn Number  1\n",
      "[6, 1, 3, 6, 6, 4]\n",
      "{'score': 700, 'score desc': 'Three-of-a-kind; One(s)', 'dice remaining': 2}\n",
      "Cumulative Score:  700\n"
     ]
    },
    {
     "data": {
      "text/plain": [
       "700"
      ]
     },
     "execution_count": 16,
     "metadata": {},
     "output_type": "execute_result"
    }
   ],
   "source": [
    "farkel_turn(force_stop=500)"
   ]
  },
  {
   "cell_type": "code",
   "execution_count": 17,
   "metadata": {},
   "outputs": [
    {
     "data": {
      "text/plain": [
       "400"
      ]
     },
     "execution_count": 17,
     "metadata": {},
     "output_type": "execute_result"
    }
   ],
   "source": [
    "farkel_turn(display=False)"
   ]
  }
 ],
 "metadata": {
  "kernelspec": {
   "display_name": "Python 3",
   "language": "python",
   "name": "python3"
  },
  "language_info": {
   "codemirror_mode": {
    "name": "ipython",
    "version": 3
   },
   "file_extension": ".py",
   "mimetype": "text/x-python",
   "name": "python",
   "nbconvert_exporter": "python",
   "pygments_lexer": "ipython3",
   "version": "3.7.6"
  }
 },
 "nbformat": 4,
 "nbformat_minor": 4
}
